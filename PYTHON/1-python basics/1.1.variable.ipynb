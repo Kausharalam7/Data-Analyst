{
 "cells": [
  {
   "cell_type": "code",
   "execution_count": 1,
   "metadata": {},
   "outputs": [
    {
     "name": "stdout",
     "output_type": "stream",
     "text": [
      "32\n",
      "3.3\n",
      "raman\n",
      "True\n"
     ]
    }
   ],
   "source": [
    "age=32\n",
    "height=3.3\n",
    "name=\"raman\"\n",
    "is_Student=True\n",
    "print(age)\n",
    "print(height)\n",
    "print(name)\n",
    "print(is_Student)\n"
   ]
  },
  {
   "cell_type": "code",
   "execution_count": 2,
   "metadata": {},
   "outputs": [
    {
     "name": "stdout",
     "output_type": "stream",
     "text": [
      "x: 10\n",
      "y: 20\n",
      "z: 30\n"
     ]
    }
   ],
   "source": [
    "# Multiple variables in a single line\n",
    "x, y, z = 10, 20, 30\n",
    "\n",
    "print(\"x:\", x)\n",
    "print(\"y:\", y)\n",
    "print(\"z:\", z)\n"
   ]
  },
  {
   "cell_type": "code",
   "execution_count": 3,
   "metadata": {},
   "outputs": [
    {
     "name": "stdout",
     "output_type": "stream",
     "text": [
      "Variable is: 100 and its type is <class 'int'>\n",
      "Variable is: Python and its type is <class 'str'>\n"
     ]
    }
   ],
   "source": [
    "# Dynamic typing in Python\n",
    "var = 100     # Initially an integer\n",
    "print(\"Variable is:\", var, \"and its type is\", type(var))\n",
    "\n",
    "var = \"Python\"  # Now a string\n",
    "print(\"Variable is:\", var, \"and its type is\", type(var))\n"
   ]
  },
  {
   "cell_type": "code",
   "execution_count": 4,
   "metadata": {},
   "outputs": [
    {
     "name": "stdout",
     "output_type": "stream",
     "text": [
      "Original: 123 of type <class 'str'>\n",
      "Converted: 123 of type <class 'int'>\n",
      "Float Conversion: 123.0 of type <class 'float'>\n"
     ]
    }
   ],
   "source": [
    "# Type conversion example\n",
    "number_str = \"123\"   # String\n",
    "number_int = int(number_str)  # Convert string to integer\n",
    "\n",
    "print(\"Original:\", number_str, \"of type\", type(number_str))\n",
    "print(\"Converted:\", number_int, \"of type\", type(number_int))\n",
    "\n",
    "# Converting integer to float\n",
    "number_float = float(number_int)\n",
    "print(\"Float Conversion:\", number_float, \"of type\", type(number_float))\n"
   ]
  },
  {
   "cell_type": "code",
   "execution_count": 5,
   "metadata": {},
   "outputs": [
    {
     "name": "stdout",
     "output_type": "stream",
     "text": [
      "Sum: 15\n",
      "Product: 50\n"
     ]
    }
   ],
   "source": [
    "# Using variables in expressions\n",
    "x = 5\n",
    "y = 10\n",
    "\n",
    "# Arithmetic operations\n",
    "sum_result = x + y\n",
    "product = x * y\n",
    "\n",
    "print(\"Sum:\", sum_result)\n",
    "print(\"Product:\", product)\n"
   ]
  },
  {
   "cell_type": "code",
   "execution_count": 6,
   "metadata": {},
   "outputs": [
    {
     "name": "stdout",
     "output_type": "stream",
     "text": [
      "Value of PI: 3.14159\n",
      "Value of Gravity: 9.8\n"
     ]
    }
   ],
   "source": [
    "# Constants in Python (by convention)\n",
    "PI = 3.14159\n",
    "GRAVITY = 9.8\n",
    "\n",
    "print(\"Value of PI:\", PI)\n",
    "print(\"Value of Gravity:\", GRAVITY)\n"
   ]
  },
  {
   "cell_type": "code",
   "execution_count": 10,
   "metadata": {},
   "outputs": [
    {
     "name": "stdout",
     "output_type": "stream",
     "text": [
      "23 <class 'int'>\n"
     ]
    }
   ],
   "source": [
    "## input from user\n",
    "age=int(input(\"enter your age: \"))\n",
    "print(age,type(age))"
   ]
  },
  {
   "cell_type": "code",
   "execution_count": 11,
   "metadata": {},
   "outputs": [
    {
     "name": "stdout",
     "output_type": "stream",
     "text": [
      "sum:  75.0\n",
      "diff:  25.0\n",
      "product:  1250.0\n",
      "division:  2.0\n"
     ]
    }
   ],
   "source": [
    "num1=float(input(\"enter first number: \"))\n",
    "num2=float(input(\"enter second number: \"))\n",
    "\n",
    "sum=num1+num2;\n",
    "diff=num1-num2;\n",
    "product=num1*num2;\n",
    "division=num1/num2;\n",
    "\n",
    "print(\"sum: \",sum)\n",
    "print(\"diff: \",diff)\n",
    "print(\"product: \",product)\n",
    "print(\"division: \",division)"
   ]
  },
  {
   "cell_type": "code",
   "execution_count": null,
   "metadata": {},
   "outputs": [],
   "source": []
  }
 ],
 "metadata": {
  "kernelspec": {
   "display_name": "Python 3",
   "language": "python",
   "name": "python3"
  },
  "language_info": {
   "codemirror_mode": {
    "name": "ipython",
    "version": 3
   },
   "file_extension": ".py",
   "mimetype": "text/x-python",
   "name": "python",
   "nbconvert_exporter": "python",
   "pygments_lexer": "ipython3",
   "version": "3.12.0"
  }
 },
 "nbformat": 4,
 "nbformat_minor": 2
}
