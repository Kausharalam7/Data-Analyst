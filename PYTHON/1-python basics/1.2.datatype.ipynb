{
 "cells": [
  {
   "cell_type": "markdown",
   "metadata": {},
   "source": [
    "Python has several basic data types that are used to store different kinds of values. Understanding these types is fundamental to programming in Python. Below is a list of the most commonly used basic data types in Python, along with some example code to demonstrate how they work.\n",
    "\n",
    "### Basic Data Types in Python\n",
    "\n",
    "1. **Integers (`int`)**: Whole numbers without a decimal point.  \n",
    "2. **Floating-point numbers (`float`)**: Numbers with a decimal point.\n",
    "3. **Strings (`str`)**: A sequence of characters enclosed in single, double, or triple quotes.\n",
    "4. **Booleans (`bool`)**: Represents one of two values: `True` or `False`.\n",
    "5. **None (`NoneType`)**: Represents the absence of a value or a null value.\n"
   ]
  },
  {
   "cell_type": "code",
   "execution_count": 1,
   "metadata": {},
   "outputs": [
    {
     "name": "stdout",
     "output_type": "stream",
     "text": [
      "<class 'str'>\n"
     ]
    }
   ],
   "source": [
    "age=\"lam\"\n",
    "print(type(age))"
   ]
  },
  {
   "cell_type": "code",
   "execution_count": 2,
   "metadata": {},
   "outputs": [
    {
     "name": "stdout",
     "output_type": "stream",
     "text": [
      "Integer: 10 Type: <class 'int'>\n",
      "Float: 20.5 Type: <class 'float'>\n",
      "Complex: (2+3j) Type: <class 'complex'>\n"
     ]
    }
   ],
   "source": [
    "# Integer\n",
    "x = 10\n",
    "print(\"Integer:\", x, \"Type:\", type(x))  # Output: 10, <class 'int'>\n",
    "\n",
    "# Float\n",
    "y = 20.5\n",
    "print(\"Float:\", y, \"Type:\", type(y))    # Output: 20.5, <class 'float'>\n",
    "\n",
    "# Complex\n",
    "z = 2 + 3j\n",
    "print(\"Complex:\", z, \"Type:\", type(z))  # Output: (2+3j), <class 'complex'>\n"
   ]
  },
  {
   "cell_type": "code",
   "execution_count": 3,
   "metadata": {},
   "outputs": [
    {
     "name": "stdout",
     "output_type": "stream",
     "text": [
      "String: Alice Type: <class 'str'>\n",
      "Multi-line String: This is a\n",
      "multi-line string.\n"
     ]
    }
   ],
   "source": [
    "# String\n",
    "name = \"Alice\"\n",
    "print(\"String:\", name, \"Type:\", type(name))  # Output: Alice, <class 'str'>\n",
    "\n",
    "# Multi-line String\n",
    "multi_line = \"\"\"This is a\n",
    "multi-line string.\"\"\"\n",
    "print(\"Multi-line String:\", multi_line)\n"
   ]
  }
 ],
 "metadata": {
  "kernelspec": {
   "display_name": "Python 3",
   "language": "python",
   "name": "python3"
  },
  "language_info": {
   "codemirror_mode": {
    "name": "ipython",
    "version": 3
   },
   "file_extension": ".py",
   "mimetype": "text/x-python",
   "name": "python",
   "nbconvert_exporter": "python",
   "pygments_lexer": "ipython3",
   "version": "3.12.0"
  }
 },
 "nbformat": 4,
 "nbformat_minor": 2
}
