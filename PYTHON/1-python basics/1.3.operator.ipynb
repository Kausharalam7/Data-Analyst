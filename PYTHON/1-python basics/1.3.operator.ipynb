{
 "cells": [
  {
   "cell_type": "code",
   "execution_count": null,
   "metadata": {},
   "outputs": [
    {
     "ename": "",
     "evalue": "",
     "output_type": "error",
     "traceback": [
      "\u001b[1;31mRunning cells with 'venv (Python 3.12.0)' requires the ipykernel package.\n",
      "\u001b[1;31mRun the following command to install 'ipykernel' into the Python environment. \n",
      "\u001b[1;31mCommand: 'conda install -p c:\\Users\\kaush\\OneDrive\\Desktop\\Data Analyst\\venv ipykernel --update-deps --force-reinstall'"
     ]
    }
   ],
   "source": [
    "x = 10\n",
    "y = 3\n",
    "\n",
    "print(\"Addition:\", x + y)            # Output: 13\n",
    "print(\"Subtraction:\", x - y)         # Output: 7\n",
    "print(\"Multiplication:\", x * y)      # Output: 30\n",
    "print(\"Division:\", x / y)            # Output: 3.333...\n",
    "print(\"Modulus:\", x % y)             # Output: 1\n",
    "print(\"Exponentiation:\", x ** y)     # Output: 1000\n",
    "print(\"Floor Division:\", x // y)     # Output: 3\n"
   ]
  },
  {
   "cell_type": "code",
   "execution_count": null,
   "metadata": {},
   "outputs": [
    {
     "ename": "",
     "evalue": "",
     "output_type": "error",
     "traceback": [
      "\u001b[1;31mRunning cells with 'venv (Python 3.12.0)' requires the ipykernel package.\n",
      "\u001b[1;31mRun the following command to install 'ipykernel' into the Python environment. \n",
      "\u001b[1;31mCommand: 'conda install -p c:\\Users\\kaush\\OneDrive\\Desktop\\Data Analyst\\venv ipykernel --update-deps --force-reinstall'"
     ]
    }
   ],
   "source": [
    "x = 5\n",
    "y = 10\n",
    "\n",
    "print(\"Equal to:\", x == y)          # Output: False\n",
    "print(\"Not equal to:\", x != y)      # Output: True\n",
    "print(\"Greater than:\", x > y)       # Output: False\n",
    "print(\"Less than:\", x < y)          # Output: True\n",
    "print(\"Greater than or equal to:\", x >= y)  # Output: False\n",
    "print(\"Less than or equal to:\", x <= y)     # Output: True\n"
   ]
  },
  {
   "cell_type": "code",
   "execution_count": 3,
   "metadata": {},
   "outputs": [
    {
     "name": "stdout",
     "output_type": "stream",
     "text": [
      "Add and assign: 8\n",
      "Subtract and assign: 6\n",
      "Multiply and assign: 24\n",
      "Divide and assign: 8.0\n",
      "Exponentiation and assign: 64.0\n"
     ]
    }
   ],
   "source": [
    "x = 5\n",
    "x += 3  # x = x + 3\n",
    "print(\"Add and assign:\", x)  # Output: 8\n",
    "\n",
    "x -= 2  # x = x - 2\n",
    "print(\"Subtract and assign:\", x)  # Output: 6\n",
    "\n",
    "x *= 4  # x = x * 4\n",
    "print(\"Multiply and assign:\", x)  # Output: 24\n",
    "\n",
    "x /= 3  # x = x / 3\n",
    "print(\"Divide and assign:\", x)  # Output: 8.0\n",
    "\n",
    "x **= 2  # x = x ** 2\n",
    "print(\"Exponentiation and assign:\", x)  # Output: 64.0\n"
   ]
  },
  {
   "cell_type": "code",
   "execution_count": 4,
   "metadata": {},
   "outputs": [
    {
     "name": "stdout",
     "output_type": "stream",
     "text": [
      "Bitwise AND: 0\n",
      "Bitwise OR: 14\n",
      "Bitwise XOR: 14\n",
      "Bitwise NOT: -11\n",
      "Left Shift: 40\n",
      "Right Shift: 2\n"
     ]
    }
   ],
   "source": [
    "x = 10  # 1010 in binary\n",
    "y = 4   # 0100 in binary\n",
    "\n",
    "print(\"Bitwise AND:\", x & y)    # Output: 0 (0000 in binary)\n",
    "print(\"Bitwise OR:\", x | y)     # Output: 14 (1110 in binary)\n",
    "print(\"Bitwise XOR:\", x ^ y)    # Output: 14 (1110 in binary)\n",
    "print(\"Bitwise NOT:\", ~x)       # Output: -11 (Two's complement of 10)\n",
    "print(\"Left Shift:\", x << 2)    # Output: 40 (101000 in binary)\n",
    "print(\"Right Shift:\", x >> 2)   # Output: 2 (0010 in binary)\n"
   ]
  },
  {
   "cell_type": "code",
   "execution_count": null,
   "metadata": {},
   "outputs": [],
   "source": []
  },
  {
   "cell_type": "code",
   "execution_count": null,
   "metadata": {},
   "outputs": [],
   "source": []
  }
 ],
 "metadata": {
  "kernelspec": {
   "display_name": "Python 3",
   "language": "python",
   "name": "python3"
  },
  "language_info": {
   "codemirror_mode": {
    "name": "ipython",
    "version": 3
   },
   "file_extension": ".py",
   "mimetype": "text/x-python",
   "name": "python",
   "nbconvert_exporter": "python",
   "pygments_lexer": "ipython3",
   "version": "3.12.0"
  }
 },
 "nbformat": 4,
 "nbformat_minor": 2
}
